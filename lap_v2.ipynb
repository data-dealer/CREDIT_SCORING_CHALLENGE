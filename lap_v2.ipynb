{
 "cells": [
  {
   "cell_type": "code",
   "execution_count": 597,
   "metadata": {},
   "outputs": [],
   "source": [
    "import pandas as pd\n",
    "import numpy as np\n",
    "import matplotlib.pyplot as plt\n",
    "import seaborn as sns\n",
    "from scipy import stats\n",
    "from sklearn.ensemble import RandomForestClassifier\n",
    "from sklearn.linear_model import LogisticRegression\n",
    "from sklearn.naive_bayes import GaussianNB\n",
    "from sklearn.neighbors import KNeighborsClassifier\n",
    "from sklearn import tree\n",
    "from sklearn import svm\n",
    "from sklearn.model_selection import train_test_split\n",
    "from sklearn import preprocessing\n",
    "\n",
    "import unidecode\n",
    "import warnings\n",
    "warnings.filterwarnings('ignore')\n",
    "import time\n",
    "import scorecardpy as sc\n",
    "\n",
    "\n",
    "from sklearn.metrics import accuracy_score\n",
    "from sklearn.metrics import recall_score\n",
    "from sklearn.metrics import precision_score\n",
    "from sklearn.metrics import precision_score\n",
    "from sklearn.metrics import f1_score\n",
    "from sklearn.metrics import confusion_matrix\n",
    "\n",
    "from sklearn.metrics import roc_curve\n",
    "from sklearn.metrics import roc_auc_score\n",
    "\n",
    "from sklearn.model_selection import cross_val_score\n"
   ]
  },
  {
   "cell_type": "code",
   "execution_count": 598,
   "metadata": {},
   "outputs": [
    {
     "name": "stdout",
     "output_type": "stream",
     "text": [
      "(30000, 64)\n",
      "0    29514\n",
      "1      486\n",
      "Name: label, dtype: int64\n",
      "0    0.9838\n",
      "1    0.0162\n",
      "Name: label, dtype: float64\n"
     ]
    }
   ],
   "source": [
    "df = pd.read_csv('train.csv')\n",
    "#df.drop(['id'], axis=1, inplace=True)\n",
    "print(df.shape)\n",
    "print(df.label.value_counts())\n",
    "print(df.label.value_counts()/len(df))"
   ]
  },
  {
   "cell_type": "code",
   "execution_count": 599,
   "metadata": {},
   "outputs": [],
   "source": [
    "def VI_to_EN_province(string):\n",
    "    try:\n",
    "        string = unidecode.unidecode(string)\n",
    "        string = string.replace(\" \", \"\").replace(\"-\", \"\").upper()\n",
    "        if string == 'TINHDACNONG':\n",
    "            string = 'TINHDAKNONG'\n",
    "        elif string == 'THANHPHOHOCHIMINH':\n",
    "            string = 'TPHOCHIMINH'\n",
    "        return string\n",
    "    except:\n",
    "        return 'NULL'\n",
    "\n",
    "df['province'] = [np.nan if x== None else VI_to_EN_province(x) for x in df['province']]\n"
   ]
  },
  {
   "cell_type": "code",
   "execution_count": 600,
   "metadata": {},
   "outputs": [
    {
     "data": {
      "text/plain": [
       "NULL             12818\n",
       "TPHOCHIMINH       2389\n",
       "TINHDONGNAI       1033\n",
       "TINHBINHDUONG      807\n",
       "THANHPHOHANOI      667\n",
       "                 ...  \n",
       "TINHDIENBIEN        45\n",
       "TINHBACKAN          38\n",
       "TINHKONTUM          34\n",
       "TINHHAGIANG         31\n",
       "TINHLAICHAU         19\n",
       "Name: province, Length: 64, dtype: int64"
      ]
     },
     "execution_count": 600,
     "metadata": {},
     "output_type": "execute_result"
    }
   ],
   "source": [
    "df['province'].value_counts()"
   ]
  },
  {
   "cell_type": "code",
   "execution_count": 601,
   "metadata": {},
   "outputs": [
    {
     "data": {
      "text/plain": [
       "Index(['id', 'label', 'province', 'district', 'age_source1', 'age_source2',\n",
       "       'maCv', 'FIELD_1', 'FIELD_2', 'FIELD_3', 'FIELD_4', 'FIELD_5',\n",
       "       'FIELD_6', 'FIELD_7', 'FIELD_8', 'FIELD_9', 'FIELD_10', 'FIELD_11',\n",
       "       'FIELD_12', 'FIELD_13', 'FIELD_14', 'FIELD_15', 'FIELD_16', 'FIELD_17',\n",
       "       'FIELD_18', 'FIELD_19', 'FIELD_20', 'FIELD_21', 'FIELD_22', 'FIELD_23',\n",
       "       'FIELD_24', 'FIELD_25', 'FIELD_26', 'FIELD_27', 'FIELD_28', 'FIELD_29',\n",
       "       'FIELD_30', 'FIELD_31', 'FIELD_32', 'FIELD_33', 'FIELD_34', 'FIELD_35',\n",
       "       'FIELD_36', 'FIELD_37', 'FIELD_38', 'FIELD_39', 'FIELD_40', 'FIELD_41',\n",
       "       'FIELD_42', 'FIELD_43', 'FIELD_44', 'FIELD_45', 'FIELD_46', 'FIELD_47',\n",
       "       'FIELD_48', 'FIELD_49', 'FIELD_50', 'FIELD_51', 'FIELD_52', 'FIELD_53',\n",
       "       'FIELD_54', 'FIELD_55', 'FIELD_56', 'FIELD_57'],\n",
       "      dtype='object')"
      ]
     },
     "execution_count": 601,
     "metadata": {},
     "output_type": "execute_result"
    }
   ],
   "source": [
    "df.columns"
   ]
  },
  {
   "cell_type": "markdown",
   "metadata": {},
   "source": [
    "<h2>Data imbalance to much </h2><br>\n",
    "After after descriptive statistics , we should resample data"
   ]
  },
  {
   "cell_type": "code",
   "execution_count": 602,
   "metadata": {},
   "outputs": [
    {
     "data": {
      "text/plain": [
       "<matplotlib.axes._subplots.AxesSubplot at 0x2032369db00>"
      ]
     },
     "execution_count": 602,
     "metadata": {},
     "output_type": "execute_result"
    },
    {
     "data": {
      "image/png": "[encoded data removed]",
      "text/plain": [
       "<Figure size 432x288 with 1 Axes>"
      ]
     },
     "metadata": {
      "needs_background": "light"
     },
     "output_type": "display_data"
    }
   ],
   "source": [
    "sns.countplot(x='label', data=df)"
   ]
  },
  {
   "cell_type": "code",
   "execution_count": 603,
   "metadata": {},
   "outputs": [
    {
     "name": "stdout",
     "output_type": "stream",
     "text": [
      "['label', 'FIELD_1', 'FIELD_2', 'FIELD_8', 'FIELD_10', 'FIELD_14', 'FIELD_15', 'FIELD_18', 'FIELD_19', 'FIELD_20', 'FIELD_21', 'FIELD_23', 'FIELD_25', 'FIELD_26', 'FIELD_27', 'FIELD_28', 'FIELD_29', 'FIELD_30', 'FIELD_31', 'FIELD_32', 'FIELD_33', 'FIELD_34', 'FIELD_36', 'FIELD_38', 'FIELD_42', 'FIELD_44', 'FIELD_46', 'FIELD_47', 'FIELD_48', 'FIELD_49']\n"
     ]
    }
   ],
   "source": [
    "sort_cols = []\n",
    "for col in df.columns:\n",
    "    if len(df[col].unique()) <=4:\n",
    "        sort_cols.append(col)\n",
    "print(sort_cols)"
   ]
  },
  {
   "cell_type": "code",
   "execution_count": 604,
   "metadata": {},
   "outputs": [
    {
     "data": {
      "text/html": [
       "<div>\n",
       "<style scoped>\n",
       "    .dataframe tbody tr th:only-of-type {\n",
       "        vertical-align: middle;\n",
       "    }\n",
       "\n",
       "    .dataframe tbody tr th {\n",
       "        vertical-align: top;\n",
       "    }\n",
       "\n",
       "    .dataframe thead th {\n",
       "        text-align: right;\n",
       "    }\n",
       "</style>\n",
       "<table border=\"1\" class=\"dataframe\">\n",
       "  <thead>\n",
       "    <tr style=\"text-align: right;\">\n",
       "      <th></th>\n",
       "      <th>label</th>\n",
       "      <th>FIELD_1</th>\n",
       "      <th>FIELD_2</th>\n",
       "      <th>FIELD_8</th>\n",
       "      <th>FIELD_10</th>\n",
       "      <th>FIELD_14</th>\n",
       "      <th>FIELD_15</th>\n",
       "      <th>FIELD_18</th>\n",
       "      <th>FIELD_19</th>\n",
       "      <th>FIELD_20</th>\n",
       "      <th>...</th>\n",
       "      <th>FIELD_33</th>\n",
       "      <th>FIELD_34</th>\n",
       "      <th>FIELD_36</th>\n",
       "      <th>FIELD_38</th>\n",
       "      <th>FIELD_42</th>\n",
       "      <th>FIELD_44</th>\n",
       "      <th>FIELD_46</th>\n",
       "      <th>FIELD_47</th>\n",
       "      <th>FIELD_48</th>\n",
       "      <th>FIELD_49</th>\n",
       "    </tr>\n",
       "  </thead>\n",
       "  <tbody>\n",
       "    <tr>\n",
       "      <th>0</th>\n",
       "      <td>0</td>\n",
       "      <td>1</td>\n",
       "      <td>1.0</td>\n",
       "      <td>NaN</td>\n",
       "      <td>NaN</td>\n",
       "      <td>1</td>\n",
       "      <td>1</td>\n",
       "      <td>NaN</td>\n",
       "      <td>NaN</td>\n",
       "      <td>NaN</td>\n",
       "      <td>...</td>\n",
       "      <td>1</td>\n",
       "      <td>1</td>\n",
       "      <td>NaN</td>\n",
       "      <td>NaN</td>\n",
       "      <td>NaN</td>\n",
       "      <td>NaN</td>\n",
       "      <td>0</td>\n",
       "      <td>True</td>\n",
       "      <td>True</td>\n",
       "      <td>True</td>\n",
       "    </tr>\n",
       "    <tr>\n",
       "      <th>1</th>\n",
       "      <td>0</td>\n",
       "      <td>1</td>\n",
       "      <td>0.0</td>\n",
       "      <td>MALE</td>\n",
       "      <td>T1</td>\n",
       "      <td>0</td>\n",
       "      <td>0</td>\n",
       "      <td>True</td>\n",
       "      <td>True</td>\n",
       "      <td>True</td>\n",
       "      <td>...</td>\n",
       "      <td>1</td>\n",
       "      <td>0</td>\n",
       "      <td>FALSE</td>\n",
       "      <td>False</td>\n",
       "      <td>Zezo</td>\n",
       "      <td>One</td>\n",
       "      <td>0</td>\n",
       "      <td>False</td>\n",
       "      <td>False</td>\n",
       "      <td>True</td>\n",
       "    </tr>\n",
       "    <tr>\n",
       "      <th>2</th>\n",
       "      <td>0</td>\n",
       "      <td>0</td>\n",
       "      <td>1.0</td>\n",
       "      <td>FEMALE</td>\n",
       "      <td>T1</td>\n",
       "      <td>0</td>\n",
       "      <td>0</td>\n",
       "      <td>False</td>\n",
       "      <td>False</td>\n",
       "      <td>False</td>\n",
       "      <td>...</td>\n",
       "      <td>1</td>\n",
       "      <td>1</td>\n",
       "      <td>FALSE</td>\n",
       "      <td>False</td>\n",
       "      <td>Zezo</td>\n",
       "      <td>Two</td>\n",
       "      <td>1</td>\n",
       "      <td>True</td>\n",
       "      <td>True</td>\n",
       "      <td>True</td>\n",
       "    </tr>\n",
       "    <tr>\n",
       "      <th>3</th>\n",
       "      <td>0</td>\n",
       "      <td>0</td>\n",
       "      <td>1.0</td>\n",
       "      <td>NaN</td>\n",
       "      <td>NaN</td>\n",
       "      <td>1</td>\n",
       "      <td>1</td>\n",
       "      <td>NaN</td>\n",
       "      <td>NaN</td>\n",
       "      <td>NaN</td>\n",
       "      <td>...</td>\n",
       "      <td>1</td>\n",
       "      <td>1</td>\n",
       "      <td>NaN</td>\n",
       "      <td>NaN</td>\n",
       "      <td>NaN</td>\n",
       "      <td>NaN</td>\n",
       "      <td>0</td>\n",
       "      <td>False</td>\n",
       "      <td>True</td>\n",
       "      <td>False</td>\n",
       "    </tr>\n",
       "    <tr>\n",
       "      <th>4</th>\n",
       "      <td>0</td>\n",
       "      <td>0</td>\n",
       "      <td>1.0</td>\n",
       "      <td>MALE</td>\n",
       "      <td>T1</td>\n",
       "      <td>0</td>\n",
       "      <td>0</td>\n",
       "      <td>True</td>\n",
       "      <td>True</td>\n",
       "      <td>True</td>\n",
       "      <td>...</td>\n",
       "      <td>1</td>\n",
       "      <td>0</td>\n",
       "      <td>FALSE</td>\n",
       "      <td>False</td>\n",
       "      <td>Zezo</td>\n",
       "      <td>One</td>\n",
       "      <td>1</td>\n",
       "      <td>True</td>\n",
       "      <td>True</td>\n",
       "      <td>True</td>\n",
       "    </tr>\n",
       "  </tbody>\n",
       "</table>\n",
       "<p>5 rows × 30 columns</p>\n",
       "</div>"
      ],
      "text/plain": [
       "   label  FIELD_1  FIELD_2 FIELD_8 FIELD_10  FIELD_14  FIELD_15 FIELD_18  \\\n",
       "0      0        1      1.0     NaN      NaN         1         1      NaN   \n",
       "1      0        1      0.0    MALE       T1         0         0     True   \n",
       "2      0        0      1.0  FEMALE       T1         0         0    False   \n",
       "3      0        0      1.0     NaN      NaN         1         1      NaN   \n",
       "4      0        0      1.0    MALE       T1         0         0     True   \n",
       "\n",
       "  FIELD_19 FIELD_20  ...  FIELD_33 FIELD_34 FIELD_36 FIELD_38 FIELD_42  \\\n",
       "0      NaN      NaN  ...         1        1      NaN      NaN      NaN   \n",
       "1     True     True  ...         1        0    FALSE    False     Zezo   \n",
       "2    False    False  ...         1        1    FALSE    False     Zezo   \n",
       "3      NaN      NaN  ...         1        1      NaN      NaN      NaN   \n",
       "4     True     True  ...         1        0    FALSE    False     Zezo   \n",
       "\n",
       "  FIELD_44 FIELD_46 FIELD_47 FIELD_48  FIELD_49  \n",
       "0      NaN        0     True     True      True  \n",
       "1      One        0    False    False      True  \n",
       "2      Two        1     True     True      True  \n",
       "3      NaN        0    False     True     False  \n",
       "4      One        1     True     True      True  \n",
       "\n",
       "[5 rows x 30 columns]"
      ]
     },
     "execution_count": 604,
     "metadata": {},
     "output_type": "execute_result"
    }
   ],
   "source": [
    "df[sort_cols].head()"
   ]
  },
  {
   "cell_type": "markdown",
   "metadata": {},
   "source": [
    "# BOOL clearn"
   ]
  },
  {
   "cell_type": "code",
   "execution_count": 605,
   "metadata": {},
   "outputs": [
    {
     "name": "stdout",
     "output_type": "stream",
     "text": [
      "['FIELD_1', 'FIELD_14', 'FIELD_15', 'FIELD_32', 'FIELD_33', 'FIELD_34', 'FIELD_46', 'FIELD_47', 'FIELD_48', 'FIELD_49']\n",
      "['FIELD_18', 'FIELD_19', 'FIELD_2', 'FIELD_20', 'FIELD_23', 'FIELD_25', 'FIELD_26', 'FIELD_27', 'FIELD_28', 'FIELD_38']\n"
     ]
    }
   ],
   "source": [
    "# Get bool columns\n",
    "clearned_bools = []\n",
    "bool_cols = []\n",
    "for col in df.columns.difference(['label']):\n",
    "    if len(df[col].unique()) <=3:\n",
    "        if 1 in df[col].unique():\n",
    "            if  df[col].isnull().sum() == 0:\n",
    "                clearned_bools.append(col)\n",
    "            else:\n",
    "                bool_cols.append(col)\n",
    "print(clearned_bools)\n",
    "print(bool_cols)"
   ]
  },
  {
   "cell_type": "code",
   "execution_count": 606,
   "metadata": {},
   "outputs": [
    {
     "data": {
      "text/html": [
       "<div>\n",
       "<style scoped>\n",
       "    .dataframe tbody tr th:only-of-type {\n",
       "        vertical-align: middle;\n",
       "    }\n",
       "\n",
       "    .dataframe tbody tr th {\n",
       "        vertical-align: top;\n",
       "    }\n",
       "\n",
       "    .dataframe thead th {\n",
       "        text-align: right;\n",
       "    }\n",
       "</style>\n",
       "<table border=\"1\" class=\"dataframe\">\n",
       "  <thead>\n",
       "    <tr style=\"text-align: right;\">\n",
       "      <th></th>\n",
       "      <th>FIELD_1</th>\n",
       "      <th>FIELD_14</th>\n",
       "      <th>FIELD_15</th>\n",
       "      <th>FIELD_32</th>\n",
       "      <th>FIELD_33</th>\n",
       "      <th>FIELD_34</th>\n",
       "      <th>FIELD_46</th>\n",
       "      <th>FIELD_47</th>\n",
       "      <th>FIELD_48</th>\n",
       "      <th>FIELD_49</th>\n",
       "    </tr>\n",
       "  </thead>\n",
       "  <tbody>\n",
       "    <tr>\n",
       "      <th>0</th>\n",
       "      <td>1</td>\n",
       "      <td>1</td>\n",
       "      <td>1</td>\n",
       "      <td>1</td>\n",
       "      <td>1</td>\n",
       "      <td>1</td>\n",
       "      <td>0</td>\n",
       "      <td>True</td>\n",
       "      <td>True</td>\n",
       "      <td>True</td>\n",
       "    </tr>\n",
       "    <tr>\n",
       "      <th>1</th>\n",
       "      <td>1</td>\n",
       "      <td>0</td>\n",
       "      <td>0</td>\n",
       "      <td>0</td>\n",
       "      <td>1</td>\n",
       "      <td>0</td>\n",
       "      <td>0</td>\n",
       "      <td>False</td>\n",
       "      <td>False</td>\n",
       "      <td>True</td>\n",
       "    </tr>\n",
       "    <tr>\n",
       "      <th>2</th>\n",
       "      <td>0</td>\n",
       "      <td>0</td>\n",
       "      <td>0</td>\n",
       "      <td>0</td>\n",
       "      <td>1</td>\n",
       "      <td>1</td>\n",
       "      <td>1</td>\n",
       "      <td>True</td>\n",
       "      <td>True</td>\n",
       "      <td>True</td>\n",
       "    </tr>\n",
       "  </tbody>\n",
       "</table>\n",
       "</div>"
      ],
      "text/plain": [
       "   FIELD_1  FIELD_14  FIELD_15  FIELD_32  FIELD_33  FIELD_34  FIELD_46  \\\n",
       "0        1         1         1         1         1         1         0   \n",
       "1        1         0         0         0         1         0         0   \n",
       "2        0         0         0         0         1         1         1   \n",
       "\n",
       "   FIELD_47  FIELD_48  FIELD_49  \n",
       "0      True      True      True  \n",
       "1     False     False      True  \n",
       "2      True      True      True  "
      ]
     },
     "execution_count": 606,
     "metadata": {},
     "output_type": "execute_result"
    }
   ],
   "source": [
    "df[clearned_bools].head(3)"
   ]
  },
  {
   "cell_type": "code",
   "execution_count": 607,
   "metadata": {},
   "outputs": [
    {
     "data": {
      "text/html": [
       "<div>\n",
       "<style scoped>\n",
       "    .dataframe tbody tr th:only-of-type {\n",
       "        vertical-align: middle;\n",
       "    }\n",
       "\n",
       "    .dataframe tbody tr th {\n",
       "        vertical-align: top;\n",
       "    }\n",
       "\n",
       "    .dataframe thead th {\n",
       "        text-align: right;\n",
       "    }\n",
       "</style>\n",
       "<table border=\"1\" class=\"dataframe\">\n",
       "  <thead>\n",
       "    <tr style=\"text-align: right;\">\n",
       "      <th></th>\n",
       "      <th>FIELD_18</th>\n",
       "      <th>FIELD_19</th>\n",
       "      <th>FIELD_2</th>\n",
       "      <th>FIELD_20</th>\n",
       "      <th>FIELD_23</th>\n",
       "      <th>FIELD_25</th>\n",
       "      <th>FIELD_26</th>\n",
       "      <th>FIELD_27</th>\n",
       "      <th>FIELD_28</th>\n",
       "      <th>FIELD_38</th>\n",
       "    </tr>\n",
       "  </thead>\n",
       "  <tbody>\n",
       "    <tr>\n",
       "      <th>0</th>\n",
       "      <td>NaN</td>\n",
       "      <td>NaN</td>\n",
       "      <td>1.0</td>\n",
       "      <td>NaN</td>\n",
       "      <td>NaN</td>\n",
       "      <td>NaN</td>\n",
       "      <td>NaN</td>\n",
       "      <td>NaN</td>\n",
       "      <td>NaN</td>\n",
       "      <td>NaN</td>\n",
       "    </tr>\n",
       "    <tr>\n",
       "      <th>1</th>\n",
       "      <td>True</td>\n",
       "      <td>True</td>\n",
       "      <td>0.0</td>\n",
       "      <td>True</td>\n",
       "      <td>True</td>\n",
       "      <td>False</td>\n",
       "      <td>False</td>\n",
       "      <td>True</td>\n",
       "      <td>True</td>\n",
       "      <td>False</td>\n",
       "    </tr>\n",
       "    <tr>\n",
       "      <th>2</th>\n",
       "      <td>False</td>\n",
       "      <td>False</td>\n",
       "      <td>1.0</td>\n",
       "      <td>False</td>\n",
       "      <td>True</td>\n",
       "      <td>True</td>\n",
       "      <td>True</td>\n",
       "      <td>True</td>\n",
       "      <td>True</td>\n",
       "      <td>False</td>\n",
       "    </tr>\n",
       "  </tbody>\n",
       "</table>\n",
       "</div>"
      ],
      "text/plain": [
       "  FIELD_18 FIELD_19  FIELD_2 FIELD_20 FIELD_23 FIELD_25 FIELD_26 FIELD_27  \\\n",
       "0      NaN      NaN      1.0      NaN      NaN      NaN      NaN      NaN   \n",
       "1     True     True      0.0     True     True    False    False     True   \n",
       "2    False    False      1.0    False     True     True     True     True   \n",
       "\n",
       "  FIELD_28 FIELD_38  \n",
       "0      NaN      NaN  \n",
       "1     True    False  \n",
       "2     True    False  "
      ]
     },
     "execution_count": 607,
     "metadata": {},
     "output_type": "execute_result"
    }
   ],
   "source": [
    "df[bool_cols].head(3)"
   ]
  },
  {
   "cell_type": "markdown",
   "metadata": {},
   "source": [
    "<b>Notify</b>\n",
    "almost field in bool_cols are na <b>9678</b> , and <b>463</b> rows <br>\n",
    "This may be an important detail that needs to be explored deeply"
   ]
  },
  {
   "cell_type": "code",
   "execution_count": 608,
   "metadata": {},
   "outputs": [
    {
     "data": {
      "text/plain": [
       "FIELD_18    9678\n",
       "FIELD_19    9678\n",
       "FIELD_2      463\n",
       "FIELD_20    9678\n",
       "FIELD_23    9678\n",
       "FIELD_25    9678\n",
       "FIELD_26    9678\n",
       "FIELD_27    9678\n",
       "FIELD_28    9678\n",
       "FIELD_38    9678\n",
       "dtype: int64"
      ]
     },
     "execution_count": 608,
     "metadata": {},
     "output_type": "execute_result"
    }
   ],
   "source": [
    "df[bool_cols].isnull().sum()"
   ]
  },
  {
   "cell_type": "code",
   "execution_count": 609,
   "metadata": {},
   "outputs": [],
   "source": [
    "# clearn boolcols \n",
    "for col in bool_cols:\n",
    "    df[col] = df[col].map({True: 1, False:0})\n",
    "    df[col].fillna(2,inplace=True)"
   ]
  },
  {
   "cell_type": "code",
   "execution_count": 610,
   "metadata": {},
   "outputs": [
    {
     "data": {
      "text/html": [
       "<div>\n",
       "<style scoped>\n",
       "    .dataframe tbody tr th:only-of-type {\n",
       "        vertical-align: middle;\n",
       "    }\n",
       "\n",
       "    .dataframe tbody tr th {\n",
       "        vertical-align: top;\n",
       "    }\n",
       "\n",
       "    .dataframe thead th {\n",
       "        text-align: right;\n",
       "    }\n",
       "</style>\n",
       "<table border=\"1\" class=\"dataframe\">\n",
       "  <thead>\n",
       "    <tr style=\"text-align: right;\">\n",
       "      <th></th>\n",
       "      <th>FIELD_18</th>\n",
       "      <th>FIELD_19</th>\n",
       "      <th>FIELD_2</th>\n",
       "      <th>FIELD_20</th>\n",
       "      <th>FIELD_23</th>\n",
       "      <th>FIELD_25</th>\n",
       "      <th>FIELD_26</th>\n",
       "      <th>FIELD_27</th>\n",
       "      <th>FIELD_28</th>\n",
       "      <th>FIELD_38</th>\n",
       "    </tr>\n",
       "  </thead>\n",
       "  <tbody>\n",
       "    <tr>\n",
       "      <th>0</th>\n",
       "      <td>2.0</td>\n",
       "      <td>2.0</td>\n",
       "      <td>1.0</td>\n",
       "      <td>2.0</td>\n",
       "      <td>2.0</td>\n",
       "      <td>2.0</td>\n",
       "      <td>2.0</td>\n",
       "      <td>2.0</td>\n",
       "      <td>2.0</td>\n",
       "      <td>2.0</td>\n",
       "    </tr>\n",
       "    <tr>\n",
       "      <th>1</th>\n",
       "      <td>1.0</td>\n",
       "      <td>1.0</td>\n",
       "      <td>0.0</td>\n",
       "      <td>1.0</td>\n",
       "      <td>1.0</td>\n",
       "      <td>0.0</td>\n",
       "      <td>0.0</td>\n",
       "      <td>1.0</td>\n",
       "      <td>1.0</td>\n",
       "      <td>0.0</td>\n",
       "    </tr>\n",
       "    <tr>\n",
       "      <th>2</th>\n",
       "      <td>0.0</td>\n",
       "      <td>0.0</td>\n",
       "      <td>1.0</td>\n",
       "      <td>0.0</td>\n",
       "      <td>1.0</td>\n",
       "      <td>1.0</td>\n",
       "      <td>1.0</td>\n",
       "      <td>1.0</td>\n",
       "      <td>1.0</td>\n",
       "      <td>0.0</td>\n",
       "    </tr>\n",
       "  </tbody>\n",
       "</table>\n",
       "</div>"
      ],
      "text/plain": [
       "   FIELD_18  FIELD_19  FIELD_2  FIELD_20  FIELD_23  FIELD_25  FIELD_26  \\\n",
       "0       2.0       2.0      1.0       2.0       2.0       2.0       2.0   \n",
       "1       1.0       1.0      0.0       1.0       1.0       0.0       0.0   \n",
       "2       0.0       0.0      1.0       0.0       1.0       1.0       1.0   \n",
       "\n",
       "   FIELD_27  FIELD_28  FIELD_38  \n",
       "0       2.0       2.0       2.0  \n",
       "1       1.0       1.0       0.0  \n",
       "2       1.0       1.0       0.0  "
      ]
     },
     "execution_count": 610,
     "metadata": {},
     "output_type": "execute_result"
    }
   ],
   "source": [
    "df[bool_cols].head(3)"
   ]
  },
  {
   "cell_type": "markdown",
   "metadata": {},
   "source": [
    "for col in clearned_bools:\n",
    "    plt.figure()\n",
    "    sns.countplot(x=col, data=df,hue='label')"
   ]
  },
  {
   "cell_type": "markdown",
   "metadata": {},
   "source": [
    "for col in bool_cols:\n",
    "    plt.figure()\n",
    "    sns.countplot(x=col, data=df,hue='label')"
   ]
  },
  {
   "cell_type": "code",
   "execution_count": 611,
   "metadata": {},
   "outputs": [
    {
     "data": {
      "text/plain": [
       "<seaborn.axisgrid.FacetGrid at 0x203237d22e8>"
      ]
     },
     "execution_count": 611,
     "metadata": {},
     "output_type": "execute_result"
    },
    {
     "data": {
      "image/png": "[encoded data removed]",
      "text/plain": [
       "<Figure size 445.575x288 with 2 Axes>"
      ]
     },
     "metadata": {
      "needs_background": "light"
     },
     "output_type": "display_data"
    }
   ],
   "source": [
    "sns.catplot(x=\"FIELD_2\", hue=\"label\", col=\"FIELD_1\",\n",
    "                data=df, kind=\"count\",\n",
    "                height=4, aspect=.7)"
   ]
  },
  {
   "cell_type": "markdown",
   "metadata": {},
   "source": [
    "# Float clearn"
   ]
  },
  {
   "cell_type": "code",
   "execution_count": 612,
   "metadata": {},
   "outputs": [
    {
     "name": "stdout",
     "output_type": "stream",
     "text": [
      "0    9476\n",
      "1     202\n",
      "Name: label, dtype: int64\n",
      "0    0.979128\n",
      "1    0.020872\n",
      "Name: label, dtype: float64\n"
     ]
    }
   ],
   "source": [
    "print(df[df.FIELD_16.isnull()].label.value_counts())\n",
    "print(df[df.FIELD_16.isnull()].label.value_counts()/len(df[df.FIELD_16.isnull()]))"
   ]
  },
  {
   "cell_type": "code",
   "execution_count": 613,
   "metadata": {},
   "outputs": [],
   "source": [
    "float_cols = list(df._get_numeric_data().columns)\n",
    "#df[float_cols].hist(figsize=(16,16))\n",
    "#plt.show()"
   ]
  },
  {
   "cell_type": "code",
   "execution_count": 614,
   "metadata": {},
   "outputs": [
    {
     "name": "stdout",
     "output_type": "stream",
     "text": [
      "clearn cols : ['id']\n",
      "na cols :  ['FIELD_16', 'FIELD_21', 'FIELD_22', 'FIELD_3', 'FIELD_4', 'FIELD_5', 'FIELD_50', 'FIELD_51', 'FIELD_52', 'FIELD_53', 'FIELD_54', 'FIELD_55', 'FIELD_56', 'FIELD_57', 'FIELD_6', 'age_source1', 'age_source2']\n",
      "9678\n",
      "9678\n",
      "9678\n",
      "463\n",
      "463\n",
      "463\n",
      "9678\n",
      "9678\n",
      "9678\n",
      "9678\n",
      "9678\n",
      "9678\n",
      "9678\n",
      "9678\n",
      "463\n",
      "12811\n",
      "9678\n"
     ]
    }
   ],
   "source": [
    "# Get bool columns\n",
    "clearned_floats = []\n",
    "float_cols = []\n",
    "for col in df._get_numeric_data().columns.difference(['label']):\n",
    "    if len(df[col].unique()) >3:\n",
    "        if  df[col].isnull().sum() == 0:\n",
    "            clearned_floats.append(col)\n",
    "        else:\n",
    "            float_cols.append(col)\n",
    "print('clearn cols :',clearned_floats)\n",
    "print('na cols : ',float_cols)\n",
    "\n",
    "for col in float_cols:\n",
    "    #print(df[col].value_counts())\n",
    "    print(df[col].isnull().sum())\n"
   ]
  },
  {
   "cell_type": "code",
   "execution_count": 615,
   "metadata": {},
   "outputs": [
    {
     "data": {
      "image/png": "[encoded data removed]",
      "text/plain": [
       "<Figure size 1152x1152 with 20 Axes>"
      ]
     },
     "metadata": {
      "needs_background": "light"
     },
     "output_type": "display_data"
    }
   ],
   "source": [
    "df[float_cols].hist(figsize=(16,16))\n",
    "plt.show()"
   ]
  },
  {
   "cell_type": "code",
   "execution_count": 616,
   "metadata": {},
   "outputs": [
    {
     "data": {
      "text/html": [
       "<div>\n",
       "<style scoped>\n",
       "    .dataframe tbody tr th:only-of-type {\n",
       "        vertical-align: middle;\n",
       "    }\n",
       "\n",
       "    .dataframe tbody tr th {\n",
       "        vertical-align: top;\n",
       "    }\n",
       "\n",
       "    .dataframe thead th {\n",
       "        text-align: right;\n",
       "    }\n",
       "</style>\n",
       "<table border=\"1\" class=\"dataframe\">\n",
       "  <thead>\n",
       "    <tr style=\"text-align: right;\">\n",
       "      <th></th>\n",
       "      <th>FIELD_16</th>\n",
       "      <th>FIELD_21</th>\n",
       "      <th>FIELD_22</th>\n",
       "      <th>FIELD_3</th>\n",
       "      <th>FIELD_4</th>\n",
       "      <th>FIELD_5</th>\n",
       "      <th>FIELD_50</th>\n",
       "      <th>FIELD_51</th>\n",
       "      <th>FIELD_52</th>\n",
       "      <th>FIELD_53</th>\n",
       "      <th>FIELD_54</th>\n",
       "      <th>FIELD_55</th>\n",
       "      <th>FIELD_56</th>\n",
       "      <th>FIELD_57</th>\n",
       "      <th>FIELD_6</th>\n",
       "      <th>age_source1</th>\n",
       "      <th>age_source2</th>\n",
       "    </tr>\n",
       "  </thead>\n",
       "  <tbody>\n",
       "    <tr>\n",
       "      <th>0</th>\n",
       "      <td>NaN</td>\n",
       "      <td>NaN</td>\n",
       "      <td>NaN</td>\n",
       "      <td>2547.0</td>\n",
       "      <td>0.0</td>\n",
       "      <td>0.0</td>\n",
       "      <td>NaN</td>\n",
       "      <td>NaN</td>\n",
       "      <td>NaN</td>\n",
       "      <td>NaN</td>\n",
       "      <td>NaN</td>\n",
       "      <td>NaN</td>\n",
       "      <td>NaN</td>\n",
       "      <td>NaN</td>\n",
       "      <td>0.0</td>\n",
       "      <td>NaN</td>\n",
       "      <td>NaN</td>\n",
       "    </tr>\n",
       "    <tr>\n",
       "      <th>1</th>\n",
       "      <td>2.0</td>\n",
       "      <td>1.0</td>\n",
       "      <td>4.0</td>\n",
       "      <td>-1.0</td>\n",
       "      <td>1.0</td>\n",
       "      <td>1.0</td>\n",
       "      <td>29.77</td>\n",
       "      <td>17.561</td>\n",
       "      <td>30.955</td>\n",
       "      <td>31.171</td>\n",
       "      <td>0.0</td>\n",
       "      <td>0.04</td>\n",
       "      <td>0.0</td>\n",
       "      <td>0.0</td>\n",
       "      <td>1.0</td>\n",
       "      <td>44.0</td>\n",
       "      <td>44.0</td>\n",
       "    </tr>\n",
       "    <tr>\n",
       "      <th>2</th>\n",
       "      <td>1.0</td>\n",
       "      <td>1.0</td>\n",
       "      <td>54.0</td>\n",
       "      <td>3273.0</td>\n",
       "      <td>1.0</td>\n",
       "      <td>4.0</td>\n",
       "      <td>29.77</td>\n",
       "      <td>56.512</td>\n",
       "      <td>30.955</td>\n",
       "      <td>31.171</td>\n",
       "      <td>0.0</td>\n",
       "      <td>0.16</td>\n",
       "      <td>0.0</td>\n",
       "      <td>0.0</td>\n",
       "      <td>0.0</td>\n",
       "      <td>30.0</td>\n",
       "      <td>30.0</td>\n",
       "    </tr>\n",
       "  </tbody>\n",
       "</table>\n",
       "</div>"
      ],
      "text/plain": [
       "   FIELD_16  FIELD_21  FIELD_22  FIELD_3  FIELD_4  FIELD_5  FIELD_50  \\\n",
       "0       NaN       NaN       NaN   2547.0      0.0      0.0       NaN   \n",
       "1       2.0       1.0       4.0     -1.0      1.0      1.0     29.77   \n",
       "2       1.0       1.0      54.0   3273.0      1.0      4.0     29.77   \n",
       "\n",
       "   FIELD_51  FIELD_52  FIELD_53  FIELD_54  FIELD_55  FIELD_56  FIELD_57  \\\n",
       "0       NaN       NaN       NaN       NaN       NaN       NaN       NaN   \n",
       "1    17.561    30.955    31.171       0.0      0.04       0.0       0.0   \n",
       "2    56.512    30.955    31.171       0.0      0.16       0.0       0.0   \n",
       "\n",
       "   FIELD_6  age_source1  age_source2  \n",
       "0      0.0          NaN          NaN  \n",
       "1      1.0         44.0         44.0  \n",
       "2      0.0         30.0         30.0  "
      ]
     },
     "execution_count": 616,
     "metadata": {},
     "output_type": "execute_result"
    }
   ],
   "source": [
    "df[float_cols].head(3)"
   ]
  },
  {
   "cell_type": "markdown",
   "metadata": {},
   "source": [
    "# Object  clearn"
   ]
  },
  {
   "cell_type": "code",
   "execution_count": 617,
   "metadata": {},
   "outputs": [],
   "source": [
    "# Object cols\n",
    "other_cols = df.columns.difference(clearned_bools + bool_cols + float_cols)"
   ]
  },
  {
   "cell_type": "code",
   "execution_count": 618,
   "metadata": {},
   "outputs": [
    {
     "data": {
      "text/plain": [
       "Index(['FIELD_10', 'FIELD_11', 'FIELD_12', 'FIELD_13', 'FIELD_17', 'FIELD_24',\n",
       "       'FIELD_29', 'FIELD_30', 'FIELD_31', 'FIELD_35', 'FIELD_36', 'FIELD_37',\n",
       "       'FIELD_39', 'FIELD_40', 'FIELD_41', 'FIELD_42', 'FIELD_43', 'FIELD_44',\n",
       "       'FIELD_45', 'FIELD_7', 'FIELD_8', 'FIELD_9', 'district', 'id', 'label',\n",
       "       'maCv', 'province'],\n",
       "      dtype='object')"
      ]
     },
     "execution_count": 618,
     "metadata": {},
     "output_type": "execute_result"
    }
   ],
   "source": [
    "other_cols"
   ]
  },
  {
   "cell_type": "markdown",
   "metadata": {},
   "source": [
    "<b> Some special columns : </b>\n",
    "<ul>\n",
    "    <li>FIELD_8 : GENDER  {'MALE':1,'FEMALE':0}</li>\n",
    "    <li>FIELD_45 : bool {'1':1,'1.0':1, '2':0,'2.0':0,'None':2} </li>\n",
    "    <li>FIELD_29 : bool </li>\n",
    "    <li>FIELD_30 : bool </li>\n",
    "    <li>FIELD_31 : bool </li>\n",
    "    <li>FIELD_36 : bool </li>\n",
    "    <li>FIELD_37 : bool </li>\n",
    "    <li>FIELD_35 : number in str type ('One', 'Two',...)  <b> 9678</b> na </li>\n",
    "</ul>"
   ]
  },
  {
   "cell_type": "code",
   "execution_count": 619,
   "metadata": {},
   "outputs": [
    {
     "name": "stdout",
     "output_type": "stream",
     "text": [
      "0.0    15932\n",
      "2.0     9683\n",
      "1.0     4385\n",
      "Name: FIELD_36, dtype: int64\n",
      "0.0    16083\n",
      "2.0    13917\n",
      "Name: FIELD_31, dtype: int64\n",
      "2.0    13803\n",
      "0.0    10499\n",
      "1.0     5698\n",
      "Name: FIELD_30, dtype: int64\n",
      "0.0    16717\n",
      "2.0    13282\n",
      "1.0        1\n",
      "Name: FIELD_29, dtype: int64\n",
      "2.0    20818\n",
      "1.0     8624\n",
      "0.0      558\n",
      "Name: FIELD_37, dtype: int64\n"
     ]
    }
   ],
   "source": [
    "bool_objs = ['FIELD_36','FIELD_31','FIELD_30','FIELD_29','FIELD_37']\n",
    "for col in bool_objs:\n",
    "    df[col]= df[col].map({'FALSE':0,'False':0,'TRUE':1,'True':1,'None':2})\n",
    "    df[col].fillna(2,inplace=True)\n",
    "    print(df[col].value_counts())"
   ]
  },
  {
   "cell_type": "code",
   "execution_count": 620,
   "metadata": {},
   "outputs": [],
   "source": [
    "# FIELD_8\n",
    "df.FIELD_8 = df.FIELD_8.map({'MALE':1,'FEMALE':0})\n",
    "df.FIELD_8.fillna(2,inplace=True)"
   ]
  },
  {
   "cell_type": "code",
   "execution_count": 621,
   "metadata": {},
   "outputs": [
    {
     "data": {
      "text/plain": [
       "2.0    13403\n",
       "1.0    12962\n",
       "0.0     3635\n",
       "Name: FIELD_45, dtype: int64"
      ]
     },
     "execution_count": 621,
     "metadata": {},
     "output_type": "execute_result"
    }
   ],
   "source": [
    "df.FIELD_45 = df.FIELD_45.map({'1':1,'1.0':1,'2':0,'2':0,'None':2})\n",
    "df.FIELD_45.fillna(2,inplace=True)\n",
    "df.FIELD_45.value_counts()"
   ]
  },
  {
   "cell_type": "code",
   "execution_count": 622,
   "metadata": {},
   "outputs": [
    {
     "data": {
      "text/plain": [
       "0.0    9210\n",
       "1.0    4472\n",
       "4.0    4056\n",
       "2.0    1366\n",
       "3.0    1218\n",
       "Name: FIELD_35, dtype: int64"
      ]
     },
     "execution_count": 622,
     "metadata": {},
     "output_type": "execute_result"
    }
   ],
   "source": [
    "df.FIELD_35 = df.FIELD_35.map({'Zero':0,'One':1,'Two':2,'Three':3,'Four':4})\n",
    "#df.FIELD_35.fillna(5,inplace=True)\n",
    "df.FIELD_35.value_counts()"
   ]
  },
  {
   "cell_type": "code",
   "execution_count": 623,
   "metadata": {},
   "outputs": [
    {
     "data": {
      "text/plain": [
       "1.0    12936\n",
       "0.0     9678\n",
       "5.0     5503\n",
       "2.0     1146\n",
       "3.0      737\n",
       "Name: FIELD_41, dtype: int64"
      ]
     },
     "execution_count": 623,
     "metadata": {},
     "output_type": "execute_result"
    }
   ],
   "source": [
    "df.FIELD_41 = df.FIELD_41.map({'I':1,'II':2,'III':3,'IV':5,'V':5})\n",
    "df.FIELD_41.fillna(0,inplace=True)\n",
    "df.FIELD_41.value_counts()"
   ]
  },
  {
   "cell_type": "code",
   "execution_count": 624,
   "metadata": {},
   "outputs": [
    {
     "data": {
      "text/plain": [
       "0.0    20163\n",
       "2.0     9680\n",
       "1.0      157\n",
       "Name: FIELD_42, dtype: int64"
      ]
     },
     "execution_count": 624,
     "metadata": {},
     "output_type": "execute_result"
    }
   ],
   "source": [
    "df.FIELD_42 = df.FIELD_42.map({'Zezo':0,'One':1,'None':2})\n",
    "df.FIELD_42.fillna(2,inplace=True)\n",
    "df.FIELD_42.value_counts()"
   ]
  },
  {
   "cell_type": "code",
   "execution_count": 625,
   "metadata": {},
   "outputs": [
    {
     "data": {
      "text/plain": [
       "1.0    14850\n",
       "2.0     9713\n",
       "0.0     5437\n",
       "Name: FIELD_44, dtype: int64"
      ]
     },
     "execution_count": 625,
     "metadata": {},
     "output_type": "execute_result"
    }
   ],
   "source": [
    "df.FIELD_44 = df.FIELD_44.map({'One':1,'Two':0,'None':2})\n",
    "df.FIELD_44.fillna(2,inplace=True)\n",
    "df.FIELD_44.value_counts()"
   ]
  },
  {
   "cell_type": "markdown",
   "metadata": {},
   "source": [
    "### FIELD 7"
   ]
  },
  {
   "cell_type": "code",
   "execution_count": 626,
   "metadata": {},
   "outputs": [],
   "source": [
    "from scipy import stats\n",
    "\n",
    "x1 = ['TC','NO','CC','NN','TK','HX','TQ','XK','HD','HC','CH','SV','GB','XD']\n",
    "x2 = ['DN', 'GD', 'DT', 'CK', 'TE']\n",
    "x3 = ['CB', 'DK', 'HS', 'CN']\n",
    "x4 = ['BT', '', 'TN', 'TA', 'HT', 'none', 'HN', 'TS', 'KC']\n",
    "\n",
    "def field7(x):\n",
    "    try:\n",
    "        x = x.replace(\"[\",\"\").replace(\"]\",\"\").replace(\"'\",\"\")\n",
    "        x = x.split(',')\n",
    "        return stats.mode(x).mode[0].replace(\" \",\"\")\n",
    "    except:\n",
    "        return 'none'\n",
    "    \n",
    "df.FIELD_7 = [field7(x) for x in df.FIELD_7]\n",
    "\n",
    "df.loc[df.FIELD_7.isin(x1 ), 'FIELD_7'] = 'group1'\n",
    "df.loc[df.FIELD_7.isin(x2 ), 'FIELD_7'] = 'group2'\n",
    "df.loc[df.FIELD_7.isin(x3 ), 'FIELD_7'] = 'group3'\n",
    "df.loc[df.FIELD_7.isin(x4 ), 'FIELD_7'] = 'group4'"
   ]
  },
  {
   "cell_type": "code",
   "execution_count": 627,
   "metadata": {},
   "outputs": [
    {
     "data": {
      "text/plain": [
       "12      8499\n",
       "0       5525\n",
       "6       2110\n",
       "3       1578\n",
       "24       350\n",
       "4        333\n",
       "9        237\n",
       "5        230\n",
       "8        218\n",
       "7        204\n",
       "10       170\n",
       "2        165\n",
       "36       150\n",
       "13       143\n",
       "1        139\n",
       "11       132\n",
       "None      34\n",
       "15        20\n",
       "60        18\n",
       "14        12\n",
       "20         5\n",
       "25         5\n",
       "17         5\n",
       "54         4\n",
       "18         4\n",
       "26         4\n",
       "16         3\n",
       "22         3\n",
       "19         2\n",
       "21         2\n",
       "34         2\n",
       "35         2\n",
       "28         2\n",
       "69         1\n",
       "59         1\n",
       "56         1\n",
       "45         1\n",
       "37         1\n",
       "72         1\n",
       "47         1\n",
       "32         1\n",
       "70         1\n",
       "42         1\n",
       "30         1\n",
       "27         1\n",
       "Name: FIELD_11, dtype: int64"
      ]
     },
     "execution_count": 627,
     "metadata": {},
     "output_type": "execute_result"
    }
   ],
   "source": [
    "#df.FIELD_11.isnull().sum()\n",
    "df.FIELD_11.value_counts()"
   ]
  },
  {
   "cell_type": "code",
   "execution_count": 628,
   "metadata": {},
   "outputs": [
    {
     "data": {
      "text/plain": [
       "9678"
      ]
     },
     "execution_count": 628,
     "metadata": {},
     "output_type": "execute_result"
    }
   ],
   "source": [
    "df.FIELD_11.isnull().sum()\n",
    "#df.FIELD_9.value_counts() \n",
    "#sns.countplot(x='FIELD_9', data=df,hue='label')"
   ]
  },
  {
   "cell_type": "code",
   "execution_count": 629,
   "metadata": {},
   "outputs": [
    {
     "data": {
      "text/html": [
       "<div>\n",
       "<style scoped>\n",
       "    .dataframe tbody tr th:only-of-type {\n",
       "        vertical-align: middle;\n",
       "    }\n",
       "\n",
       "    .dataframe tbody tr th {\n",
       "        vertical-align: top;\n",
       "    }\n",
       "\n",
       "    .dataframe thead th {\n",
       "        text-align: right;\n",
       "    }\n",
       "</style>\n",
       "<table border=\"1\" class=\"dataframe\">\n",
       "  <thead>\n",
       "    <tr style=\"text-align: right;\">\n",
       "      <th></th>\n",
       "      <th></th>\n",
       "      <th>id</th>\n",
       "      <th>province</th>\n",
       "      <th>district</th>\n",
       "      <th>age_source1</th>\n",
       "      <th>age_source2</th>\n",
       "      <th>maCv</th>\n",
       "      <th>FIELD_1</th>\n",
       "      <th>FIELD_2</th>\n",
       "      <th>FIELD_3</th>\n",
       "      <th>FIELD_4</th>\n",
       "      <th>...</th>\n",
       "      <th>FIELD_48</th>\n",
       "      <th>FIELD_49</th>\n",
       "      <th>FIELD_50</th>\n",
       "      <th>FIELD_51</th>\n",
       "      <th>FIELD_52</th>\n",
       "      <th>FIELD_53</th>\n",
       "      <th>FIELD_54</th>\n",
       "      <th>FIELD_55</th>\n",
       "      <th>FIELD_56</th>\n",
       "      <th>FIELD_57</th>\n",
       "    </tr>\n",
       "    <tr>\n",
       "      <th>FIELD_11</th>\n",
       "      <th>label</th>\n",
       "      <th></th>\n",
       "      <th></th>\n",
       "      <th></th>\n",
       "      <th></th>\n",
       "      <th></th>\n",
       "      <th></th>\n",
       "      <th></th>\n",
       "      <th></th>\n",
       "      <th></th>\n",
       "      <th></th>\n",
       "      <th></th>\n",
       "      <th></th>\n",
       "      <th></th>\n",
       "      <th></th>\n",
       "      <th></th>\n",
       "      <th></th>\n",
       "      <th></th>\n",
       "      <th></th>\n",
       "      <th></th>\n",
       "      <th></th>\n",
       "      <th></th>\n",
       "    </tr>\n",
       "  </thead>\n",
       "  <tbody>\n",
       "    <tr>\n",
       "      <th rowspan=\"2\" valign=\"top\">0</th>\n",
       "      <th>0</th>\n",
       "      <td>5445</td>\n",
       "      <td>5445</td>\n",
       "      <td>5445</td>\n",
       "      <td>5445.0</td>\n",
       "      <td>5445.0</td>\n",
       "      <td>5445</td>\n",
       "      <td>5445</td>\n",
       "      <td>5445.0</td>\n",
       "      <td>5445.0</td>\n",
       "      <td>5445.0</td>\n",
       "      <td>...</td>\n",
       "      <td>5445</td>\n",
       "      <td>5445</td>\n",
       "      <td>5445.0</td>\n",
       "      <td>5445.0</td>\n",
       "      <td>5445.0</td>\n",
       "      <td>5445.0</td>\n",
       "      <td>5445.0</td>\n",
       "      <td>5445.0</td>\n",
       "      <td>5445.0</td>\n",
       "      <td>5445.0</td>\n",
       "    </tr>\n",
       "    <tr>\n",
       "      <th>1</th>\n",
       "      <td>80</td>\n",
       "      <td>80</td>\n",
       "      <td>80</td>\n",
       "      <td>80.0</td>\n",
       "      <td>80.0</td>\n",
       "      <td>80</td>\n",
       "      <td>80</td>\n",
       "      <td>80.0</td>\n",
       "      <td>80.0</td>\n",
       "      <td>80.0</td>\n",
       "      <td>...</td>\n",
       "      <td>80</td>\n",
       "      <td>80</td>\n",
       "      <td>80.0</td>\n",
       "      <td>80.0</td>\n",
       "      <td>80.0</td>\n",
       "      <td>80.0</td>\n",
       "      <td>80.0</td>\n",
       "      <td>80.0</td>\n",
       "      <td>80.0</td>\n",
       "      <td>80.0</td>\n",
       "    </tr>\n",
       "    <tr>\n",
       "      <th rowspan=\"2\" valign=\"top\">1</th>\n",
       "      <th>0</th>\n",
       "      <td>137</td>\n",
       "      <td>137</td>\n",
       "      <td>137</td>\n",
       "      <td>137.0</td>\n",
       "      <td>137.0</td>\n",
       "      <td>137</td>\n",
       "      <td>137</td>\n",
       "      <td>137.0</td>\n",
       "      <td>137.0</td>\n",
       "      <td>137.0</td>\n",
       "      <td>...</td>\n",
       "      <td>137</td>\n",
       "      <td>137</td>\n",
       "      <td>137.0</td>\n",
       "      <td>137.0</td>\n",
       "      <td>137.0</td>\n",
       "      <td>137.0</td>\n",
       "      <td>137.0</td>\n",
       "      <td>137.0</td>\n",
       "      <td>137.0</td>\n",
       "      <td>137.0</td>\n",
       "    </tr>\n",
       "    <tr>\n",
       "      <th>1</th>\n",
       "      <td>2</td>\n",
       "      <td>2</td>\n",
       "      <td>2</td>\n",
       "      <td>2.0</td>\n",
       "      <td>2.0</td>\n",
       "      <td>2</td>\n",
       "      <td>2</td>\n",
       "      <td>2.0</td>\n",
       "      <td>2.0</td>\n",
       "      <td>2.0</td>\n",
       "      <td>...</td>\n",
       "      <td>2</td>\n",
       "      <td>2</td>\n",
       "      <td>2.0</td>\n",
       "      <td>2.0</td>\n",
       "      <td>2.0</td>\n",
       "      <td>2.0</td>\n",
       "      <td>2.0</td>\n",
       "      <td>2.0</td>\n",
       "      <td>2.0</td>\n",
       "      <td>2.0</td>\n",
       "    </tr>\n",
       "    <tr>\n",
       "      <th>10</th>\n",
       "      <th>0</th>\n",
       "      <td>169</td>\n",
       "      <td>169</td>\n",
       "      <td>169</td>\n",
       "      <td>169.0</td>\n",
       "      <td>169.0</td>\n",
       "      <td>169</td>\n",
       "      <td>169</td>\n",
       "      <td>169.0</td>\n",
       "      <td>169.0</td>\n",
       "      <td>169.0</td>\n",
       "      <td>...</td>\n",
       "      <td>169</td>\n",
       "      <td>169</td>\n",
       "      <td>169.0</td>\n",
       "      <td>169.0</td>\n",
       "      <td>169.0</td>\n",
       "      <td>169.0</td>\n",
       "      <td>169.0</td>\n",
       "      <td>169.0</td>\n",
       "      <td>169.0</td>\n",
       "      <td>169.0</td>\n",
       "    </tr>\n",
       "    <tr>\n",
       "      <th>...</th>\n",
       "      <th>...</th>\n",
       "      <td>...</td>\n",
       "      <td>...</td>\n",
       "      <td>...</td>\n",
       "      <td>...</td>\n",
       "      <td>...</td>\n",
       "      <td>...</td>\n",
       "      <td>...</td>\n",
       "      <td>...</td>\n",
       "      <td>...</td>\n",
       "      <td>...</td>\n",
       "      <td>...</td>\n",
       "      <td>...</td>\n",
       "      <td>...</td>\n",
       "      <td>...</td>\n",
       "      <td>...</td>\n",
       "      <td>...</td>\n",
       "      <td>...</td>\n",
       "      <td>...</td>\n",
       "      <td>...</td>\n",
       "      <td>...</td>\n",
       "      <td>...</td>\n",
       "    </tr>\n",
       "    <tr>\n",
       "      <th>8</th>\n",
       "      <th>1</th>\n",
       "      <td>4</td>\n",
       "      <td>4</td>\n",
       "      <td>4</td>\n",
       "      <td>4.0</td>\n",
       "      <td>4.0</td>\n",
       "      <td>4</td>\n",
       "      <td>4</td>\n",
       "      <td>4.0</td>\n",
       "      <td>4.0</td>\n",
       "      <td>4.0</td>\n",
       "      <td>...</td>\n",
       "      <td>4</td>\n",
       "      <td>4</td>\n",
       "      <td>4.0</td>\n",
       "      <td>4.0</td>\n",
       "      <td>4.0</td>\n",
       "      <td>4.0</td>\n",
       "      <td>4.0</td>\n",
       "      <td>4.0</td>\n",
       "      <td>4.0</td>\n",
       "      <td>4.0</td>\n",
       "    </tr>\n",
       "    <tr>\n",
       "      <th rowspan=\"2\" valign=\"top\">9</th>\n",
       "      <th>0</th>\n",
       "      <td>233</td>\n",
       "      <td>233</td>\n",
       "      <td>233</td>\n",
       "      <td>233.0</td>\n",
       "      <td>233.0</td>\n",
       "      <td>233</td>\n",
       "      <td>233</td>\n",
       "      <td>233.0</td>\n",
       "      <td>233.0</td>\n",
       "      <td>233.0</td>\n",
       "      <td>...</td>\n",
       "      <td>233</td>\n",
       "      <td>233</td>\n",
       "      <td>233.0</td>\n",
       "      <td>233.0</td>\n",
       "      <td>233.0</td>\n",
       "      <td>233.0</td>\n",
       "      <td>233.0</td>\n",
       "      <td>233.0</td>\n",
       "      <td>233.0</td>\n",
       "      <td>233.0</td>\n",
       "    </tr>\n",
       "    <tr>\n",
       "      <th>1</th>\n",
       "      <td>4</td>\n",
       "      <td>4</td>\n",
       "      <td>4</td>\n",
       "      <td>4.0</td>\n",
       "      <td>4.0</td>\n",
       "      <td>4</td>\n",
       "      <td>4</td>\n",
       "      <td>4.0</td>\n",
       "      <td>4.0</td>\n",
       "      <td>4.0</td>\n",
       "      <td>...</td>\n",
       "      <td>4</td>\n",
       "      <td>4</td>\n",
       "      <td>4.0</td>\n",
       "      <td>4.0</td>\n",
       "      <td>4.0</td>\n",
       "      <td>4.0</td>\n",
       "      <td>4.0</td>\n",
       "      <td>4.0</td>\n",
       "      <td>4.0</td>\n",
       "      <td>4.0</td>\n",
       "    </tr>\n",
       "    <tr>\n",
       "      <th rowspan=\"2\" valign=\"top\">None</th>\n",
       "      <th>0</th>\n",
       "      <td>32</td>\n",
       "      <td>32</td>\n",
       "      <td>32</td>\n",
       "      <td>32.0</td>\n",
       "      <td>32.0</td>\n",
       "      <td>32</td>\n",
       "      <td>32</td>\n",
       "      <td>32.0</td>\n",
       "      <td>32.0</td>\n",
       "      <td>32.0</td>\n",
       "      <td>...</td>\n",
       "      <td>32</td>\n",
       "      <td>32</td>\n",
       "      <td>32.0</td>\n",
       "      <td>32.0</td>\n",
       "      <td>32.0</td>\n",
       "      <td>32.0</td>\n",
       "      <td>32.0</td>\n",
       "      <td>32.0</td>\n",
       "      <td>32.0</td>\n",
       "      <td>32.0</td>\n",
       "    </tr>\n",
       "    <tr>\n",
       "      <th>1</th>\n",
       "      <td>2</td>\n",
       "      <td>2</td>\n",
       "      <td>2</td>\n",
       "      <td>2.0</td>\n",
       "      <td>2.0</td>\n",
       "      <td>2</td>\n",
       "      <td>2</td>\n",
       "      <td>2.0</td>\n",
       "      <td>2.0</td>\n",
       "      <td>2.0</td>\n",
       "      <td>...</td>\n",
       "      <td>2</td>\n",
       "      <td>2</td>\n",
       "      <td>2.0</td>\n",
       "      <td>2.0</td>\n",
       "      <td>2.0</td>\n",
       "      <td>2.0</td>\n",
       "      <td>2.0</td>\n",
       "      <td>2.0</td>\n",
       "      <td>2.0</td>\n",
       "      <td>2.0</td>\n",
       "    </tr>\n",
       "  </tbody>\n",
       "</table>\n",
       "<p>62 rows × 62 columns</p>\n",
       "</div>"
      ],
      "text/plain": [
       "                  id  province  district  age_source1  age_source2  maCv  \\\n",
       "FIELD_11 label                                                             \n",
       "0        0      5445      5445      5445       5445.0       5445.0  5445   \n",
       "         1        80        80        80         80.0         80.0    80   \n",
       "1        0       137       137       137        137.0        137.0   137   \n",
       "         1         2         2         2          2.0          2.0     2   \n",
       "10       0       169       169       169        169.0        169.0   169   \n",
       "...              ...       ...       ...          ...          ...   ...   \n",
       "8        1         4         4         4          4.0          4.0     4   \n",
       "9        0       233       233       233        233.0        233.0   233   \n",
       "         1         4         4         4          4.0          4.0     4   \n",
       "None     0        32        32        32         32.0         32.0    32   \n",
       "         1         2         2         2          2.0          2.0     2   \n",
       "\n",
       "                FIELD_1  FIELD_2  FIELD_3  FIELD_4  ...  FIELD_48  FIELD_49  \\\n",
       "FIELD_11 label                                      ...                       \n",
       "0        0         5445   5445.0   5445.0   5445.0  ...      5445      5445   \n",
       "         1           80     80.0     80.0     80.0  ...        80        80   \n",
       "1        0          137    137.0    137.0    137.0  ...       137       137   \n",
       "         1            2      2.0      2.0      2.0  ...         2         2   \n",
       "10       0          169    169.0    169.0    169.0  ...       169       169   \n",
       "...                 ...      ...      ...      ...  ...       ...       ...   \n",
       "8        1            4      4.0      4.0      4.0  ...         4         4   \n",
       "9        0          233    233.0    233.0    233.0  ...       233       233   \n",
       "         1            4      4.0      4.0      4.0  ...         4         4   \n",
       "None     0           32     32.0     32.0     32.0  ...        32        32   \n",
       "         1            2      2.0      2.0      2.0  ...         2         2   \n",
       "\n",
       "                FIELD_50  FIELD_51  FIELD_52  FIELD_53  FIELD_54  FIELD_55  \\\n",
       "FIELD_11 label                                                               \n",
       "0        0        5445.0    5445.0    5445.0    5445.0    5445.0    5445.0   \n",
       "         1          80.0      80.0      80.0      80.0      80.0      80.0   \n",
       "1        0         137.0     137.0     137.0     137.0     137.0     137.0   \n",
       "         1           2.0       2.0       2.0       2.0       2.0       2.0   \n",
       "10       0         169.0     169.0     169.0     169.0     169.0     169.0   \n",
       "...                  ...       ...       ...       ...       ...       ...   \n",
       "8        1           4.0       4.0       4.0       4.0       4.0       4.0   \n",
       "9        0         233.0     233.0     233.0     233.0     233.0     233.0   \n",
       "         1           4.0       4.0       4.0       4.0       4.0       4.0   \n",
       "None     0          32.0      32.0      32.0      32.0      32.0      32.0   \n",
       "         1           2.0       2.0       2.0       2.0       2.0       2.0   \n",
       "\n",
       "                FIELD_56  FIELD_57  \n",
       "FIELD_11 label                      \n",
       "0        0        5445.0    5445.0  \n",
       "         1          80.0      80.0  \n",
       "1        0         137.0     137.0  \n",
       "         1           2.0       2.0  \n",
       "10       0         169.0     169.0  \n",
       "...                  ...       ...  \n",
       "8        1           4.0       4.0  \n",
       "9        0         233.0     233.0  \n",
       "         1           4.0       4.0  \n",
       "None     0          32.0      32.0  \n",
       "         1           2.0       2.0  \n",
       "\n",
       "[62 rows x 62 columns]"
      ]
     },
     "execution_count": 629,
     "metadata": {},
     "output_type": "execute_result"
    }
   ],
   "source": [
    "df.groupby(['FIELD_11','label']).agg(len)"
   ]
  },
  {
   "cell_type": "markdown",
   "metadata": {},
   "source": [
    "print(df.FIELD_11.dtypes)\n",
    "df.FIELD_11 = df.FIELD_11.map({'None':np.nan}).astype(float)\n",
    "print(df.FIELD_11.dtypes)"
   ]
  },
  {
   "cell_type": "code",
   "execution_count": 630,
   "metadata": {},
   "outputs": [],
   "source": [
    "def VI_to_EN2(string):\n",
    "    try:\n",
    "        string = unidecode.unidecode(string)\n",
    "        string = string.replace(\" \", \"\").replace(\"-\", \"\").lower()\n",
    "    except:\n",
    "        return  'none'\n",
    "    \n",
    "    value_list = ['congnhan','nhanvien','giaovien' ,'ketoan']\n",
    "    \n",
    "    if string == 'none':\n",
    "        return string\n",
    "    elif string in ('taixe','laixe'):\n",
    "        return 'taixe'\n",
    "    \n",
    "    for s in value_list:\n",
    "        if s in string:\n",
    "            return  s\n",
    "            \n",
    "            \n",
    "    return 'other'\n",
    "\n",
    "df['maCv'] = [np.nan if x== None else VI_to_EN2(x) for x in df['maCv']]\n"
   ]
  },
  {
   "cell_type": "code",
   "execution_count": 631,
   "metadata": {},
   "outputs": [],
   "source": [
    "clearned_objs = ['FIELD_36','FIELD_31','FIELD_30','FIELD_29','FIELD_8','FIELD_45','FIELD_35','FIELD_41','FIELD_42','FIELD_44','FIELD_7']"
   ]
  },
  {
   "cell_type": "code",
   "execution_count": 632,
   "metadata": {},
   "outputs": [
    {
     "data": {
      "text/html": [
       "<div>\n",
       "<style scoped>\n",
       "    .dataframe tbody tr th:only-of-type {\n",
       "        vertical-align: middle;\n",
       "    }\n",
       "\n",
       "    .dataframe tbody tr th {\n",
       "        vertical-align: top;\n",
       "    }\n",
       "\n",
       "    .dataframe thead th {\n",
       "        text-align: right;\n",
       "    }\n",
       "</style>\n",
       "<table border=\"1\" class=\"dataframe\">\n",
       "  <thead>\n",
       "    <tr style=\"text-align: right;\">\n",
       "      <th></th>\n",
       "      <th>FIELD_10</th>\n",
       "      <th>FIELD_11</th>\n",
       "      <th>FIELD_12</th>\n",
       "      <th>FIELD_13</th>\n",
       "      <th>FIELD_17</th>\n",
       "      <th>FIELD_24</th>\n",
       "      <th>FIELD_37</th>\n",
       "      <th>FIELD_39</th>\n",
       "      <th>FIELD_40</th>\n",
       "      <th>FIELD_43</th>\n",
       "      <th>FIELD_9</th>\n",
       "      <th>district</th>\n",
       "      <th>id</th>\n",
       "      <th>label</th>\n",
       "      <th>maCv</th>\n",
       "      <th>province</th>\n",
       "    </tr>\n",
       "  </thead>\n",
       "  <tbody>\n",
       "    <tr>\n",
       "      <th>0</th>\n",
       "      <td>NaN</td>\n",
       "      <td>NaN</td>\n",
       "      <td>NaN</td>\n",
       "      <td>NaN</td>\n",
       "      <td>NaN</td>\n",
       "      <td>NaN</td>\n",
       "      <td>2.0</td>\n",
       "      <td>NaN</td>\n",
       "      <td>NaN</td>\n",
       "      <td>NaN</td>\n",
       "      <td>na</td>\n",
       "      <td>NaN</td>\n",
       "      <td>0</td>\n",
       "      <td>0</td>\n",
       "      <td>none</td>\n",
       "      <td>NULL</td>\n",
       "    </tr>\n",
       "    <tr>\n",
       "      <th>1</th>\n",
       "      <td>T1</td>\n",
       "      <td>12</td>\n",
       "      <td>None</td>\n",
       "      <td>BI</td>\n",
       "      <td>G8</td>\n",
       "      <td>None</td>\n",
       "      <td>2.0</td>\n",
       "      <td>VN</td>\n",
       "      <td>None</td>\n",
       "      <td>None</td>\n",
       "      <td>GD</td>\n",
       "      <td>Thành phố Biên Hòa</td>\n",
       "      <td>1</td>\n",
       "      <td>0</td>\n",
       "      <td>none</td>\n",
       "      <td>TINHDONGNAI</td>\n",
       "    </tr>\n",
       "    <tr>\n",
       "      <th>2</th>\n",
       "      <td>T1</td>\n",
       "      <td>12</td>\n",
       "      <td>0</td>\n",
       "      <td>YN</td>\n",
       "      <td>None</td>\n",
       "      <td>None</td>\n",
       "      <td>2.0</td>\n",
       "      <td>None</td>\n",
       "      <td>None</td>\n",
       "      <td>None</td>\n",
       "      <td>DN</td>\n",
       "      <td>Huyện Long Thành</td>\n",
       "      <td>2</td>\n",
       "      <td>0</td>\n",
       "      <td>congnhan</td>\n",
       "      <td>TINHDONGNAI</td>\n",
       "    </tr>\n",
       "    <tr>\n",
       "      <th>3</th>\n",
       "      <td>NaN</td>\n",
       "      <td>NaN</td>\n",
       "      <td>NaN</td>\n",
       "      <td>NaN</td>\n",
       "      <td>NaN</td>\n",
       "      <td>NaN</td>\n",
       "      <td>2.0</td>\n",
       "      <td>NaN</td>\n",
       "      <td>NaN</td>\n",
       "      <td>NaN</td>\n",
       "      <td>na</td>\n",
       "      <td>Thành phố Tuyên Quang</td>\n",
       "      <td>3</td>\n",
       "      <td>0</td>\n",
       "      <td>none</td>\n",
       "      <td>TINHTUYENQUANG</td>\n",
       "    </tr>\n",
       "    <tr>\n",
       "      <th>4</th>\n",
       "      <td>T1</td>\n",
       "      <td>12</td>\n",
       "      <td>None</td>\n",
       "      <td>BI</td>\n",
       "      <td>G8</td>\n",
       "      <td>None</td>\n",
       "      <td>2.0</td>\n",
       "      <td>None</td>\n",
       "      <td>None</td>\n",
       "      <td>None</td>\n",
       "      <td>GD</td>\n",
       "      <td>Quận 1</td>\n",
       "      <td>4</td>\n",
       "      <td>0</td>\n",
       "      <td>none</td>\n",
       "      <td>TPHOCHIMINH</td>\n",
       "    </tr>\n",
       "  </tbody>\n",
       "</table>\n",
       "</div>"
      ],
      "text/plain": [
       "  FIELD_10 FIELD_11 FIELD_12 FIELD_13 FIELD_17 FIELD_24  FIELD_37 FIELD_39  \\\n",
       "0      NaN      NaN      NaN      NaN      NaN      NaN       2.0      NaN   \n",
       "1       T1       12     None       BI       G8     None       2.0       VN   \n",
       "2       T1       12        0       YN     None     None       2.0     None   \n",
       "3      NaN      NaN      NaN      NaN      NaN      NaN       2.0      NaN   \n",
       "4       T1       12     None       BI       G8     None       2.0     None   \n",
       "\n",
       "  FIELD_40 FIELD_43 FIELD_9               district  id  label      maCv  \\\n",
       "0      NaN      NaN      na                    NaN   0      0      none   \n",
       "1     None     None      GD     Thành phố Biên Hòa   1      0      none   \n",
       "2     None     None      DN       Huyện Long Thành   2      0  congnhan   \n",
       "3      NaN      NaN      na  Thành phố Tuyên Quang   3      0      none   \n",
       "4     None     None      GD                 Quận 1   4      0      none   \n",
       "\n",
       "         province  \n",
       "0            NULL  \n",
       "1     TINHDONGNAI  \n",
       "2     TINHDONGNAI  \n",
       "3  TINHTUYENQUANG  \n",
       "4     TPHOCHIMINH  "
      ]
     },
     "execution_count": 632,
     "metadata": {},
     "output_type": "execute_result"
    }
   ],
   "source": [
    "#list(other_cols) \n",
    "df[df[other_cols].columns.difference(clearned_objs)].head()\n",
    "\n",
    "#df.drop(['distric','id'])"
   ]
  },
  {
   "cell_type": "markdown",
   "metadata": {},
   "source": [
    "clearned:\n",
    "    'FIELD_1',\n",
    "    'FIELD_14',\n",
    "    'FIELD_15',\n",
    "    'FIELD_32',\n",
    "    'FIELD_33',\n",
    "    'FIELD_34',\n",
    "    'FIELD_46',\n",
    "    'FIELD_47',\n",
    "    'FIELD_48',\n",
    "    'FIELD_49'\n"
   ]
  },
  {
   "cell_type": "code",
   "execution_count": 633,
   "metadata": {},
   "outputs": [
    {
     "data": {
      "image/png": "[encoded data removed]",
      "text/plain": [
       "<Figure size 432x288 with 1 Axes>"
      ]
     },
     "metadata": {
      "needs_background": "light"
     },
     "output_type": "display_data"
    },
    {
     "data": {
      "image/png": "[encoded data removed]",
      "text/plain": [
       "<Figure size 432x288 with 1 Axes>"
      ]
     },
     "metadata": {
      "needs_background": "light"
     },
     "output_type": "display_data"
    },
    {
     "data": {
      "image/png": "[encoded data removed]",
      "text/plain": [
       "<Figure size 432x288 with 1 Axes>"
      ]
     },
     "metadata": {
      "needs_background": "light"
     },
     "output_type": "display_data"
    },
    {
     "data": {
      "image/png": "[encoded data removed]",
      "text/plain": [
       "<Figure size 432x288 with 1 Axes>"
      ]
     },
     "metadata": {
      "needs_background": "light"
     },
     "output_type": "display_data"
    },
    {
     "data": {
      "image/png": "[encoded data removed]",
      "text/plain": [
       "<Figure size 432x288 with 1 Axes>"
      ]
     },
     "metadata": {
      "needs_background": "light"
     },
     "output_type": "display_data"
    },
    {
     "data": {
      "image/png": "[encoded data removed]",
      "text/plain": [
       "<Figure size 432x288 with 1 Axes>"
      ]
     },
     "metadata": {
      "needs_background": "light"
     },
     "output_type": "display_data"
    },
    {
     "data": {
      "image/png": "[encoded data removed]",
      "text/plain": [
       "<Figure size 432x288 with 1 Axes>"
      ]
     },
     "metadata": {
      "needs_background": "light"
     },
     "output_type": "display_data"
    },
    {
     "data": {
      "image/png": "[encoded data removed]",
      "text/plain": [
       "<Figure size 432x288 with 1 Axes>"
      ]
     },
     "metadata": {
      "needs_background": "light"
     },
     "output_type": "display_data"
    },
    {
     "data": {
      "image/png": "[encoded data removed]",
      "text/plain": [
       "<Figure size 432x288 with 1 Axes>"
      ]
     },
     "metadata": {
      "needs_background": "light"
     },
     "output_type": "display_data"
    },
    {
     "data": {
      "image/png": "[encoded data removed]",
      "text/plain": [
       "<Figure size 432x288 with 1 Axes>"
      ]
     },
     "metadata": {
      "needs_background": "light"
     },
     "output_type": "display_data"
    },
    {
     "data": {
      "image/png": "[encoded data removed]",
      "text/plain": [
       "<Figure size 432x288 with 1 Axes>"
      ]
     },
     "metadata": {
      "needs_background": "light"
     },
     "output_type": "display_data"
    },
    {
     "data": {
      "image/png": "[encoded data removed]",
      "text/plain": [
       "<Figure size 432x288 with 1 Axes>"
      ]
     },
     "metadata": {
      "needs_background": "light"
     },
     "output_type": "display_data"
    },
    {
     "data": {
      "image/png": "[encoded data removed]",
      "text/plain": [
       "<Figure size 432x288 with 1 Axes>"
      ]
     },
     "metadata": {
      "needs_background": "light"
     },
     "output_type": "display_data"
    },
    {
     "data": {
      "image/png": "[encoded data removed]",
      "text/plain": [
       "<Figure size 432x288 with 1 Axes>"
      ]
     },
     "metadata": {
      "needs_background": "light"
     },
     "output_type": "display_data"
    },
    {
     "data": {
      "image/png": "[encoded data removed]",
      "text/plain": [
       "<Figure size 432x288 with 1 Axes>"
      ]
     },
     "metadata": {
      "needs_background": "light"
     },
     "output_type": "display_data"
    },
    {
     "data": {
      "image/png": "[encoded data removed]",
      "text/plain": [
       "<Figure size 432x288 with 1 Axes>"
      ]
     },
     "metadata": {
      "needs_background": "light"
     },
     "output_type": "display_data"
    },
    {
     "data": {
      "image/png": "[encoded data removed]",
      "text/plain": [
       "<Figure size 432x288 with 1 Axes>"
      ]
     },
     "metadata": {
      "needs_background": "light"
     },
     "output_type": "display_data"
    },
    {
     "data": {
      "image/png": "[encoded data removed]",
      "text/plain": [
       "<Figure size 432x288 with 1 Axes>"
      ]
     },
     "metadata": {
      "needs_background": "light"
     },
     "output_type": "display_data"
    },
    {
     "data": {
      "image/png": "[encoded data removed]",
      "text/plain": [
       "<Figure size 432x288 with 1 Axes>"
      ]
     },
     "metadata": {
      "needs_background": "light"
     },
     "output_type": "display_data"
    }
   ],
   "source": [
    "for col in other_cols:\n",
    "    if len(df[col].unique()) < 10:\n",
    "        plt.figure()\n",
    "        sns.countplot(x=col, data=df,hue='label')"
   ]
  },
  {
   "cell_type": "code",
   "execution_count": null,
   "metadata": {},
   "outputs": [],
   "source": []
  },
  {
   "cell_type": "code",
   "execution_count": 634,
   "metadata": {},
   "outputs": [],
   "source": [
    "#df.dropna().label.value_counts()\n",
    "#df.dropna().label.value_counts()/len(df.dropna())"
   ]
  }
 ],
 "metadata": {
  "kernelspec": {
   "display_name": "Python 3",
   "language": "python",
   "name": "python3"
  },
  "language_info": {
   "codemirror_mode": {
    "name": "ipython",
    "version": 3
   },
   "file_extension": ".py",
   "mimetype": "text/x-python",
   "name": "python",
   "nbconvert_exporter": "python",
   "pygments_lexer": "ipython3",
   "version": "3.7.3"
  }
 },
 "nbformat": 4,
 "nbformat_minor": 4
}
